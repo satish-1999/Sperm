{
  "nbformat": 4,
  "nbformat_minor": 0,
  "metadata": {
    "colab": {
      "name": "Head1  VGG19.ipynb",
      "provenance": [],
      "collapsed_sections": []
    },
    "kernelspec": {
      "name": "python3",
      "display_name": "Python 3"
    }
  },
  "cells": [
    {
      "cell_type": "code",
      "metadata": {
        "id": "y-1IIPB7UG21"
      },
      "source": [
        "import PIL\n",
        "import numpy as np\n",
        "from PIL import Image"
      ],
      "execution_count": null,
      "outputs": []
    },
    {
      "cell_type": "code",
      "metadata": {
        "id": "iKSmUk_Gmufv"
      },
      "source": [
        "import tensorflow as tf\n",
        "from keras.preprocessing.image import ImageDataGenerator\n",
        "import matplotlib.pyplot as plt\n"
      ],
      "execution_count": null,
      "outputs": []
    },
    {
      "cell_type": "code",
      "metadata": {
        "id": "rxs4b0KL6UE_"
      },
      "source": [
        "from keras.models import Sequential,Model,load_model\n",
        "from keras.layers import Dense, Dropout, Flatten, Conv2D, MaxPool2D,GlobalAveragePooling2D\n",
        "from keras.callbacks import TensorBoard,ReduceLROnPlateau,ModelCheckpoint"
      ],
      "execution_count": null,
      "outputs": []
    },
    {
      "cell_type": "code",
      "metadata": {
        "id": "dPjdk-B7nKjl"
      },
      "source": [
        "import numpy as np"
      ],
      "execution_count": null,
      "outputs": []
    },
    {
      "cell_type": "code",
      "metadata": {
        "id": "SVtCRRX_nrzu"
      },
      "source": [
        "x_train=np.load('/content/x_128_train.npy')\n",
        "x_test=np.load('/content/x_128_test.npy')\n",
        "x_valid=np.load('/content/x_128_valid.npy')"
      ],
      "execution_count": null,
      "outputs": []
    },
    {
      "cell_type": "code",
      "metadata": {
        "id": "pXLyVPA5UW3f"
      },
      "source": [
        ""
      ],
      "execution_count": null,
      "outputs": []
    },
    {
      "cell_type": "code",
      "metadata": {
        "id": "7HL_UKcc9lKR",
        "colab": {
          "base_uri": "https://localhost:8080/",
          "height": 34
        },
        "outputId": "135b5266-ca26-40f0-a11d-7842642e9cd0"
      },
      "source": [
        "len(x_valid)"
      ],
      "execution_count": null,
      "outputs": [
        {
          "output_type": "execute_result",
          "data": {
            "text/plain": [
              "240"
            ]
          },
          "metadata": {
            "tags": []
          },
          "execution_count": 6
        }
      ]
    },
    {
      "cell_type": "code",
      "metadata": {
        "id": "bhUYsYPWn83S",
        "colab": {
          "base_uri": "https://localhost:8080/",
          "height": 257
        },
        "outputId": "3d51d6af-eab6-4e6d-d885-489bfd43c278"
      },
      "source": [
        "for i in range(0, 10):\n",
        "\tplt.subplot(1,2,2)\n",
        "\tplt.imshow(x_train[i], cmap=plt.get_cmap('gray'))\n",
        "\n",
        "plt.show()"
      ],
      "execution_count": null,
      "outputs": [
        {
          "output_type": "stream",
          "text": [
            "/usr/local/lib/python3.6/dist-packages/ipykernel_launcher.py:2: MatplotlibDeprecationWarning: Adding an axes using the same arguments as a previous axes currently reuses the earlier instance.  In a future version, a new instance will always be created and returned.  Meanwhile, this warning can be suppressed, and the future behavior ensured, by passing a unique label to each axes instance.\n",
            "  \n"
          ],
          "name": "stderr"
        },
        {
          "output_type": "display_data",
          "data": {
            "image/png": "[encoded data removed]",
            "text/plain": [
              "<Figure size 432x288 with 1 Axes>"
            ]
          },
          "metadata": {
            "tags": [],
            "needs_background": "light"
          }
        }
      ]
    },
    {
      "cell_type": "code",
      "metadata": {
        "id": "t8Ufx-uEdMcn"
      },
      "source": [
        "x_train = tf.cast(x_train, tf.float32)\n",
        "x_test = tf.cast(x_test, tf.float32)\n",
        "x_valid = tf.cast(x_valid, tf.float32)"
      ],
      "execution_count": null,
      "outputs": []
    },
    {
      "cell_type": "code",
      "metadata": {
        "id": "Mj8_fKLC0ehn"
      },
      "source": [
        "datagen = ImageDataGenerator(featurewise_center=True,\n",
        "    samplewise_center=False,\n",
        "    featurewise_std_normalization=True,\n",
        "    samplewise_std_normalization=False,\n",
        "    zca_whitening=False,\n",
        "    rotation_range=0.2,\n",
        "    width_shift_range=0.2,\n",
        "    height_shift_range=0.2,\n",
        "    shear_range=0.2,\n",
        "    zoom_range=0.2,\n",
        "    fill_mode='nearest',\n",
        "    cval=0.2,\n",
        "    horizontal_flip=True,\n",
        "    vertical_flip=False,\n",
        "    rescale=1./255,\n",
        "    preprocessing_function=None)"
      ],
      "execution_count": null,
      "outputs": []
    },
    {
      "cell_type": "code",
      "metadata": {
        "id": "bqPi0McgFuuO"
      },
      "source": [
        "valid_datagen = ImageDataGenerator(rescale=1./255)"
      ],
      "execution_count": null,
      "outputs": []
    },
    {
      "cell_type": "code",
      "metadata": {
        "id": "Y6V7zcobphfe"
      },
      "source": [
        "y_train=np.load('/content/y_head_train.npy')\n",
        "y_test=np.load('/content/y_head_test.npy')\n",
        "y_valid=np.load('/content/y_head_valid.npy')"
      ],
      "execution_count": null,
      "outputs": []
    },
    {
      "cell_type": "code",
      "metadata": {
        "id": "NOYZysS9dLM_"
      },
      "source": [
        "y_train = tf.cast(y_train, tf.float32)\n",
        "y_test = tf.cast(y_test, tf.float32)\n",
        "y_valid = tf.cast(y_valid, tf.float32)"
      ],
      "execution_count": null,
      "outputs": []
    },
    {
      "cell_type": "code",
      "metadata": {
        "id": "r74jgFtxSSY6",
        "colab": {
          "base_uri": "https://localhost:8080/",
          "height": 51
        },
        "outputId": "3de051a9-01a5-4f87-d2e3-47053040ba37"
      },
      "source": [
        "print(x_train.shape)  \n",
        "x_train = np.repeat(x_train[..., np.newaxis], 3, -1)\n",
        "print(x_train.shape)  "
      ],
      "execution_count": null,
      "outputs": [
        {
          "output_type": "stream",
          "text": [
            "(1000, 128, 128)\n",
            "(1000, 128, 128, 3)\n"
          ],
          "name": "stdout"
        }
      ]
    },
    {
      "cell_type": "code",
      "metadata": {
        "id": "zGhMkLeHSw73",
        "colab": {
          "base_uri": "https://localhost:8080/",
          "height": 51
        },
        "outputId": "edfdf4ed-a0c7-48dc-87e4-59600dd3432a"
      },
      "source": [
        "print(x_test.shape)  \n",
        "x_test = np.repeat(x_test[..., np.newaxis], 3, -1)\n",
        "print(x_test.shape)  "
      ],
      "execution_count": null,
      "outputs": [
        {
          "output_type": "stream",
          "text": [
            "(300, 128, 128)\n",
            "(300, 128, 128, 3)\n"
          ],
          "name": "stdout"
        }
      ]
    },
    {
      "cell_type": "code",
      "metadata": {
        "id": "gmfOhRv3SyCz",
        "colab": {
          "base_uri": "https://localhost:8080/",
          "height": 51
        },
        "outputId": "263dba66-3369-433e-cafc-8b3eed4259f6"
      },
      "source": [
        "print(x_valid.shape)  \n",
        "x_valid = np.repeat(x_valid[..., np.newaxis], 3, -1)\n",
        "print(x_valid.shape)  "
      ],
      "execution_count": null,
      "outputs": [
        {
          "output_type": "stream",
          "text": [
            "(240, 128, 128)\n",
            "(240, 128, 128, 3)\n"
          ],
          "name": "stdout"
        }
      ]
    },
    {
      "cell_type": "code",
      "metadata": {
        "id": "3N5unLvN6esT"
      },
      "source": [
        "datagen.fit(x_train)"
      ],
      "execution_count": null,
      "outputs": []
    },
    {
      "cell_type": "code",
      "metadata": {
        "id": "0p-k5Fk9Y_es"
      },
      "source": [
        "x_train = datagen.flow(x_train,y_train,batch_size=30)\n",
        "x_valid = valid_datagen.flow(x_valid,y_valid,batch_size=30)\n",
        "x_test= valid_datagen.flow(x_test,y_test,batch_size=30)"
      ],
      "execution_count": null,
      "outputs": []
    },
    {
      "cell_type": "code",
      "metadata": {
        "id": "EhQa1SihAbaY"
      },
      "source": [
        "from tensorflow.keras.applications.resnet50 import ResNet50\n",
        "from tensorflow.keras.applications.inception_resnet_v2 import InceptionResNetV2\n",
        "from tensorflow.keras.layers import *\n",
        "from tensorflow.keras.models import Model, load_model\n",
        "from tensorflow.keras.initializers import glorot_uniform\n",
        "from tensorflow.keras.utils import plot_model\n",
        "from IPython.display import display\n",
        "from tensorflow.keras import backend as K\n",
        "from tensorflow.keras.optimizers import SGD\n",
        "from tensorflow.keras.preprocessing.image import ImageDataGenerator\n",
        "from tensorflow.keras.callbacks import ReduceLROnPlateau, EarlyStopping, ModelCheckpoint, LearningRateScheduler\n"
      ],
      "execution_count": null,
      "outputs": []
    },
    {
      "cell_type": "code",
      "metadata": {
        "id": "V25vqlfv5d99",
        "colab": {
          "base_uri": "https://localhost:8080/",
          "height": 51
        },
        "outputId": "15265a79-1ffb-44e0-aee9-279ef4e8c5f2"
      },
      "source": [
        "\n",
        "basemodel=tf.keras.applications.VGG19(weights='imagenet',include_top=False, input_tensor=Input(shape=(224,224,3)))"
      ],
      "execution_count": null,
      "outputs": [
        {
          "output_type": "stream",
          "text": [
            "Downloading data from https://storage.googleapis.com/tensorflow/keras-applications/vgg19/vgg19_weights_tf_dim_ordering_tf_kernels_notop.h5\n",
            "80142336/80134624 [==============================] - 2s 0us/step\n"
          ],
          "name": "stdout"
        }
      ]
    },
    {
      "cell_type": "code",
      "metadata": {
        "id": "MZVb-aFxX3cF",
        "colab": {
          "base_uri": "https://localhost:8080/",
          "height": 901
        },
        "outputId": "4ef7ab20-3b29-4dd1-9b2c-953114eb3c6f"
      },
      "source": [
        "basemodel.summary()"
      ],
      "execution_count": null,
      "outputs": [
        {
          "output_type": "stream",
          "text": [
            "Model: \"vgg19\"\n",
            "_________________________________________________________________\n",
            "Layer (type)                 Output Shape              Param #   \n",
            "=================================================================\n",
            "input_1 (InputLayer)         [(None, 224, 224, 3)]     0         \n",
            "_________________________________________________________________\n",
            "block1_conv1 (Conv2D)        (None, 224, 224, 64)      1792      \n",
            "_________________________________________________________________\n",
            "block1_conv2 (Conv2D)        (None, 224, 224, 64)      36928     \n",
            "_________________________________________________________________\n",
            "block1_pool (MaxPooling2D)   (None, 112, 112, 64)      0         \n",
            "_________________________________________________________________\n",
            "block2_conv1 (Conv2D)        (None, 112, 112, 128)     73856     \n",
            "_________________________________________________________________\n",
            "block2_conv2 (Conv2D)        (None, 112, 112, 128)     147584    \n",
            "_________________________________________________________________\n",
            "block2_pool (MaxPooling2D)   (None, 56, 56, 128)       0         \n",
            "_________________________________________________________________\n",
            "block3_conv1 (Conv2D)        (None, 56, 56, 256)       295168    \n",
            "_________________________________________________________________\n",
            "block3_conv2 (Conv2D)        (None, 56, 56, 256)       590080    \n",
            "_________________________________________________________________\n",
            "block3_conv3 (Conv2D)        (None, 56, 56, 256)       590080    \n",
            "_________________________________________________________________\n",
            "block3_conv4 (Conv2D)        (None, 56, 56, 256)       590080    \n",
            "_________________________________________________________________\n",
            "block3_pool (MaxPooling2D)   (None, 28, 28, 256)       0         \n",
            "_________________________________________________________________\n",
            "block4_conv1 (Conv2D)        (None, 28, 28, 512)       1180160   \n",
            "_________________________________________________________________\n",
            "block4_conv2 (Conv2D)        (None, 28, 28, 512)       2359808   \n",
            "_________________________________________________________________\n",
            "block4_conv3 (Conv2D)        (None, 28, 28, 512)       2359808   \n",
            "_________________________________________________________________\n",
            "block4_conv4 (Conv2D)        (None, 28, 28, 512)       2359808   \n",
            "_________________________________________________________________\n",
            "block4_pool (MaxPooling2D)   (None, 14, 14, 512)       0         \n",
            "_________________________________________________________________\n",
            "block5_conv1 (Conv2D)        (None, 14, 14, 512)       2359808   \n",
            "_________________________________________________________________\n",
            "block5_conv2 (Conv2D)        (None, 14, 14, 512)       2359808   \n",
            "_________________________________________________________________\n",
            "block5_conv3 (Conv2D)        (None, 14, 14, 512)       2359808   \n",
            "_________________________________________________________________\n",
            "block5_conv4 (Conv2D)        (None, 14, 14, 512)       2359808   \n",
            "_________________________________________________________________\n",
            "block5_pool (MaxPooling2D)   (None, 7, 7, 512)         0         \n",
            "=================================================================\n",
            "Total params: 20,024,384\n",
            "Trainable params: 20,024,384\n",
            "Non-trainable params: 0\n",
            "_________________________________________________________________\n"
          ],
          "name": "stdout"
        }
      ]
    },
    {
      "cell_type": "code",
      "metadata": {
        "id": "6_14Xh1jYQxa"
      },
      "source": [
        "basemodel.trainable=False"
      ],
      "execution_count": null,
      "outputs": []
    },
    {
      "cell_type": "code",
      "metadata": {
        "id": "MmMcFvK7FFrl"
      },
      "source": [
        ""
      ],
      "execution_count": null,
      "outputs": []
    },
    {
      "cell_type": "code",
      "metadata": {
        "id": "HCZDh5A252Lp"
      },
      "source": [
        "x = basemodel.output\n",
        "x = GlobalAveragePooling2D()(x)\n",
        "x=Flatten()(x)\n",
        "x=Dense(256,activation='relu')(x)\n",
        "x = Dropout(0.3)(x)\n",
        "x=Dense(128,activation='relu')(x)\n",
        "x = Dropout(0.3)(x)\n",
        "predictions = Dense(1, activation= 'sigmoid')(x)\n",
        "model = Model(inputs = basemodel.input, outputs = predictions)"
      ],
      "execution_count": null,
      "outputs": []
    },
    {
      "cell_type": "code",
      "metadata": {
        "id": "S1M9DZ7Q6MAF"
      },
      "source": [
        "from keras.optimizers import SGD, Adam\n",
        "\n",
        "adam = Adam(lr=0.0001)\n",
        "\n",
        "model.compile(optimizer= adam, loss='binary_crossentropy', metrics=['accuracy'])"
      ],
      "execution_count": null,
      "outputs": []
    },
    {
      "cell_type": "code",
      "metadata": {
        "id": "A781mJisQBKU",
        "colab": {
          "base_uri": "https://localhost:8080/",
          "height": 34
        },
        "outputId": "df8cf53d-07e8-4324-a878-74a257b65b19"
      },
      "source": [
        "model.input.shape\n"
      ],
      "execution_count": null,
      "outputs": [
        {
          "output_type": "execute_result",
          "data": {
            "text/plain": [
              "TensorShape([None, 224, 224, 3])"
            ]
          },
          "metadata": {
            "tags": []
          },
          "execution_count": 29
        }
      ]
    },
    {
      "cell_type": "code",
      "metadata": {
        "id": "D0QvzHnKRCa7",
        "colab": {
          "base_uri": "https://localhost:8080/",
          "height": 1000
        },
        "outputId": "bc099db7-3b33-4276-e1e6-449f07b4161d"
      },
      "source": [
        "\n",
        "from keras.callbacks import ModelCheckpoint, EarlyStopping\n",
        "checkpoint = ModelCheckpoint(\"vgg16_1.h5\", monitor='val_accuracy', verbose=1, save_best_only=True, save_weights_only=False, mode='auto')\n",
        "\n",
        "hist = model.fit(steps_per_epoch=34,x=x_train, validation_data= x_valid,epochs=25,callbacks=[checkpoint])\n"
      ],
      "execution_count": null,
      "outputs": [
        {
          "output_type": "stream",
          "text": [
            "Epoch 1/25\n",
            "34/34 [==============================] - ETA: 0s - loss: 0.6297 - accuracy: 0.6830\n",
            "Epoch 00001: val_accuracy improved from -inf to 0.73333, saving model to vgg16_1.h5\n",
            "34/34 [==============================] - 248s 7s/step - loss: 0.6297 - accuracy: 0.6830 - val_loss: 0.5855 - val_accuracy: 0.7333\n",
            "Epoch 2/25\n",
            "34/34 [==============================] - ETA: 0s - loss: 0.6095 - accuracy: 0.7190\n",
            "Epoch 00002: val_accuracy did not improve from 0.73333\n",
            "34/34 [==============================] - 248s 7s/step - loss: 0.6095 - accuracy: 0.7190 - val_loss: 0.5985 - val_accuracy: 0.7333\n",
            "Epoch 3/25\n",
            "34/34 [==============================] - ETA: 0s - loss: 0.5898 - accuracy: 0.7250\n",
            "Epoch 00003: val_accuracy did not improve from 0.73333\n",
            "34/34 [==============================] - 248s 7s/step - loss: 0.5898 - accuracy: 0.7250 - val_loss: 0.5961 - val_accuracy: 0.7333\n",
            "Epoch 4/25\n",
            "34/34 [==============================] - ETA: 0s - loss: 0.6010 - accuracy: 0.7250\n",
            "Epoch 00004: val_accuracy did not improve from 0.73333\n",
            "34/34 [==============================] - 248s 7s/step - loss: 0.6010 - accuracy: 0.7250 - val_loss: 0.5942 - val_accuracy: 0.7333\n",
            "Epoch 5/25\n",
            "34/34 [==============================] - ETA: 0s - loss: 0.5914 - accuracy: 0.7240\n",
            "Epoch 00005: val_accuracy did not improve from 0.73333\n",
            "34/34 [==============================] - 248s 7s/step - loss: 0.5914 - accuracy: 0.7240 - val_loss: 0.6061 - val_accuracy: 0.7333\n",
            "Epoch 6/25\n",
            "34/34 [==============================] - ETA: 0s - loss: 0.5823 - accuracy: 0.7260\n",
            "Epoch 00006: val_accuracy did not improve from 0.73333\n",
            "34/34 [==============================] - 247s 7s/step - loss: 0.5823 - accuracy: 0.7260 - val_loss: 0.6018 - val_accuracy: 0.7333\n",
            "Epoch 7/25\n",
            "34/34 [==============================] - ETA: 0s - loss: 0.5747 - accuracy: 0.7320\n",
            "Epoch 00007: val_accuracy did not improve from 0.73333\n",
            "34/34 [==============================] - 247s 7s/step - loss: 0.5747 - accuracy: 0.7320 - val_loss: 0.6118 - val_accuracy: 0.7333\n",
            "Epoch 8/25\n",
            "34/34 [==============================] - ETA: 0s - loss: 0.5747 - accuracy: 0.7240\n",
            "Epoch 00008: val_accuracy did not improve from 0.73333\n",
            "34/34 [==============================] - 247s 7s/step - loss: 0.5747 - accuracy: 0.7240 - val_loss: 0.6148 - val_accuracy: 0.7333\n",
            "Epoch 9/25\n",
            "34/34 [==============================] - ETA: 0s - loss: 0.5696 - accuracy: 0.7350\n",
            "Epoch 00009: val_accuracy did not improve from 0.73333\n",
            "34/34 [==============================] - 248s 7s/step - loss: 0.5696 - accuracy: 0.7350 - val_loss: 0.6169 - val_accuracy: 0.7333\n",
            "Epoch 10/25\n",
            "34/34 [==============================] - ETA: 0s - loss: 0.5724 - accuracy: 0.7350\n",
            "Epoch 00010: val_accuracy did not improve from 0.73333\n",
            "34/34 [==============================] - 248s 7s/step - loss: 0.5724 - accuracy: 0.7350 - val_loss: 0.6236 - val_accuracy: 0.7333\n",
            "Epoch 11/25\n",
            "34/34 [==============================] - ETA: 0s - loss: 0.5624 - accuracy: 0.7360\n",
            "Epoch 00011: val_accuracy did not improve from 0.73333\n",
            "34/34 [==============================] - 247s 7s/step - loss: 0.5624 - accuracy: 0.7360 - val_loss: 0.6236 - val_accuracy: 0.7333\n",
            "Epoch 12/25\n",
            "34/34 [==============================] - ETA: 0s - loss: 0.5686 - accuracy: 0.7340\n",
            "Epoch 00012: val_accuracy did not improve from 0.73333\n",
            "34/34 [==============================] - 247s 7s/step - loss: 0.5686 - accuracy: 0.7340 - val_loss: 0.6412 - val_accuracy: 0.7333\n",
            "Epoch 13/25\n",
            "34/34 [==============================] - ETA: 0s - loss: 0.5532 - accuracy: 0.7340\n",
            "Epoch 00013: val_accuracy did not improve from 0.73333\n",
            "34/34 [==============================] - 247s 7s/step - loss: 0.5532 - accuracy: 0.7340 - val_loss: 0.6549 - val_accuracy: 0.7333\n",
            "Epoch 14/25\n",
            "34/34 [==============================] - ETA: 0s - loss: 0.5532 - accuracy: 0.7390\n",
            "Epoch 00014: val_accuracy did not improve from 0.73333\n",
            "34/34 [==============================] - 247s 7s/step - loss: 0.5532 - accuracy: 0.7390 - val_loss: 0.6517 - val_accuracy: 0.7333\n",
            "Epoch 15/25\n",
            "34/34 [==============================] - ETA: 0s - loss: 0.5432 - accuracy: 0.7350\n",
            "Epoch 00015: val_accuracy did not improve from 0.73333\n",
            "34/34 [==============================] - 247s 7s/step - loss: 0.5432 - accuracy: 0.7350 - val_loss: 0.6794 - val_accuracy: 0.7042\n",
            "Epoch 16/25\n",
            "34/34 [==============================] - ETA: 0s - loss: 0.5503 - accuracy: 0.7390\n",
            "Epoch 00016: val_accuracy did not improve from 0.73333\n",
            "34/34 [==============================] - 247s 7s/step - loss: 0.5503 - accuracy: 0.7390 - val_loss: 0.6658 - val_accuracy: 0.7250\n",
            "Epoch 17/25\n",
            "34/34 [==============================] - ETA: 0s - loss: 0.5666 - accuracy: 0.7380\n",
            "Epoch 00017: val_accuracy did not improve from 0.73333\n",
            "34/34 [==============================] - 247s 7s/step - loss: 0.5666 - accuracy: 0.7380 - val_loss: 0.6658 - val_accuracy: 0.7250\n",
            "Epoch 18/25\n",
            "34/34 [==============================] - ETA: 0s - loss: 0.5518 - accuracy: 0.7420\n",
            "Epoch 00018: val_accuracy did not improve from 0.73333\n",
            "34/34 [==============================] - 247s 7s/step - loss: 0.5518 - accuracy: 0.7420 - val_loss: 0.6754 - val_accuracy: 0.7083\n",
            "Epoch 19/25\n",
            "34/34 [==============================] - ETA: 0s - loss: 0.5502 - accuracy: 0.7380\n",
            "Epoch 00019: val_accuracy did not improve from 0.73333\n",
            "34/34 [==============================] - 247s 7s/step - loss: 0.5502 - accuracy: 0.7380 - val_loss: 0.6734 - val_accuracy: 0.7125\n",
            "Epoch 20/25\n",
            "34/34 [==============================] - ETA: 0s - loss: 0.5407 - accuracy: 0.7500\n",
            "Epoch 00020: val_accuracy did not improve from 0.73333\n",
            "34/34 [==============================] - 247s 7s/step - loss: 0.5407 - accuracy: 0.7500 - val_loss: 0.6859 - val_accuracy: 0.6250\n",
            "Epoch 21/25\n",
            "34/34 [==============================] - ETA: 0s - loss: 0.5446 - accuracy: 0.7500\n",
            "Epoch 00021: val_accuracy did not improve from 0.73333\n",
            "34/34 [==============================] - 247s 7s/step - loss: 0.5446 - accuracy: 0.7500 - val_loss: 0.6741 - val_accuracy: 0.7167\n",
            "Epoch 22/25\n",
            "34/34 [==============================] - ETA: 0s - loss: 0.5446 - accuracy: 0.7470\n",
            "Epoch 00022: val_accuracy did not improve from 0.73333\n",
            "34/34 [==============================] - 247s 7s/step - loss: 0.5446 - accuracy: 0.7470 - val_loss: 0.6920 - val_accuracy: 0.5458\n",
            "Epoch 23/25\n",
            "34/34 [==============================] - ETA: 0s - loss: 0.5471 - accuracy: 0.7340\n",
            "Epoch 00023: val_accuracy did not improve from 0.73333\n",
            "34/34 [==============================] - 247s 7s/step - loss: 0.5471 - accuracy: 0.7340 - val_loss: 0.7090 - val_accuracy: 0.3208\n",
            "Epoch 24/25\n",
            "34/34 [==============================] - ETA: 0s - loss: 0.5509 - accuracy: 0.7490\n",
            "Epoch 00024: val_accuracy did not improve from 0.73333\n",
            "34/34 [==============================] - 247s 7s/step - loss: 0.5509 - accuracy: 0.7490 - val_loss: 0.6903 - val_accuracy: 0.5792\n",
            "Epoch 25/25\n",
            "34/34 [==============================] - ETA: 0s - loss: 0.5454 - accuracy: 0.7460\n",
            "Epoch 00025: val_accuracy did not improve from 0.73333\n",
            "34/34 [==============================] - 247s 7s/step - loss: 0.5454 - accuracy: 0.7460 - val_loss: 0.7358 - val_accuracy: 0.2667\n"
          ],
          "name": "stdout"
        }
      ]
    },
    {
      "cell_type": "code",
      "metadata": {
        "id": "NQDX5V4GIi32"
      },
      "source": [
        "model.load_weights('vgg16_1.h5')"
      ],
      "execution_count": null,
      "outputs": []
    },
    {
      "cell_type": "code",
      "metadata": {
        "id": "buNYOjvJIf7u"
      },
      "source": [
        "preds = model.evaluate(x_test,verbose=1)\n",
        "print (\"Loss = \" + str(preds[0]))\n",
        "print (\"Test Accuracy = \" + str(preds[1]))"
      ],
      "execution_count": null,
      "outputs": []
    },
    {
      "cell_type": "code",
      "metadata": {
        "id": "G_fgH2thBspQ"
      },
      "source": [
        "y_pred=model.predict(x_test)\n",
        "for i in range(0,300):\n",
        "  if y_pred[i]>0.5:\n",
        "    y_pred[i]=1\n",
        "  else:\n",
        "    y_pred[i]=0\n",
        "\n",
        "y_pred\n",
        "from sklearn.metrics import confusion_matrix,plot_confusion_matrix,accuracy_score ,f1_score, precision_score ,roc_auc_score, recall_score\n",
        "cm = confusion_matrix(y_test, y_pred)\n",
        "print(cm)\n",
        "print(accuracy_score(y_test, y_pred))\n",
        "print(f1_score(y_test, y_pred,average='macro'))\n",
        "print(precision_score(y_test,y_pred,average='macro'))\n",
        "print(recall_score(y_test,y_pred,average='macro'))\n",
        "#print(classification_report(y_test, y_pred))\n",
        "print(roc_auc_score(y_test,y_pred,average='macro'))\n",
        "#plot_confusion_matrix(model,x_test,y_test,values_format='d')\n",
        "import itertools"
      ],
      "execution_count": null,
      "outputs": []
    },
    {
      "cell_type": "code",
      "metadata": {
        "id": "PGbtHGzxBzkm"
      },
      "source": [
        "def plot_confusion_matrix(cm, classes,\n",
        "                        normalize=False,\n",
        "                        title='Confusion matrix',\n",
        "                        cmap=plt.cm.Blues):\n",
        "    \"\"\"\n",
        "    This function prints and plots the confusion matrix.\n",
        "    Normalization can be applied by setting `normalize=True`.\n",
        "    \"\"\"\n",
        "    plt.imshow(cm, interpolation='nearest', cmap=cmap)\n",
        "    plt.title(title)\n",
        "    plt.colorbar()\n",
        "    tick_marks = np.arange(len(classes))\n",
        "    plt.xticks(tick_marks, classes, rotation=45)\n",
        "    plt.yticks(tick_marks, classes)\n",
        "\n",
        "    if normalize:\n",
        "        cm = cm.astype('float') / cm.sum(axis=1)[:, np.newaxis]\n",
        "        print(\"Normalized confusion matrix\")\n",
        "    else:\n",
        "        print('Confusion matrix, without normalization')\n",
        "\n",
        "    print(cm)\n",
        "\n",
        "    thresh = cm.max() / 2.\n",
        "    for i, j in itertools.product(range(cm.shape[0]), range(cm.shape[1])):\n",
        "        plt.text(j, i, cm[i, j],\n",
        "            horizontalalignment=\"center\",\n",
        "            color=\"white\" if cm[i, j] > thresh else \"black\")\n",
        "\n",
        "    plt.tight_layout()\n",
        "    plt.ylabel('True label')\n",
        "    plt.xlabel('Predicted label')"
      ],
      "execution_count": null,
      "outputs": []
    },
    {
      "cell_type": "code",
      "metadata": {
        "id": "lk4I15L3B8Ua"
      },
      "source": [
        "plot_confusion_matrix(cm=cm,classes=[0,1] ,title='Confusion Matrix')"
      ],
      "execution_count": null,
      "outputs": []
    }
  ]
}